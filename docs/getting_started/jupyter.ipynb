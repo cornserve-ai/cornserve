{
 "cells": [
  {
   "cell_type": "markdown",
   "id": "1e7929ad-ed7e-4a7a-9579-bc6da9124bf4",
   "metadata": {},
   "source": [
    "# Using Jupyter Notebook"
   ]
  },
  {
   "cell_type": "markdown",
   "id": "ab47e246-4f9f-4b1e-a6b0-b95a71a8ccd2",
   "metadata": {},
   "source": [
    "In the previous page, we showed an example of building a simple image understanding app. However, one-shotting the entire app in Python isn't very convenient. Instead, for non-trivial apps, you can interactively build the app logic in a Jupyter notebook. Here's an example that uses the built-in composite task `MLLMTask`."
   ]
  },
  {
   "cell_type": "code",
   "execution_count": 1,
   "id": "78d4ae05-2a91-4371-9a76-3cfad89dad67",
   "metadata": {},
   "outputs": [],
   "source": [
    "from cornserve.task.builtins.mllm import MLLMTask, Modality\n",
    "mllm = MLLMTask(\n",
    "    model_id=\"Qwen/Qwen2-VL-7B-Instruct\",\n",
    "    modalities=[Modality.IMAGE],\n",
    ")"
   ]
  },
  {
   "cell_type": "markdown",
   "id": "8bda7e3f-1bf2-4916-a3ee-4c07f53febad",
   "metadata": {},
   "source": [
    "You can deploy this task to the cluster so that you can later invoke it. To deploy, you need to create a `CornserveClient`."
   ]
  },
  {
   "cell_type": "code",
   "execution_count": 2,
   "id": "db26f6b0-4eb3-4c7f-aa01-3ea7d20e3cf1",
   "metadata": {},
   "outputs": [
    {
     "name": "stdout",
     "output_type": "stream",
     "text": [
      "Connected to Cornserve gateway at your-endpoint:port\n"
     ]
    }
   ],
   "source": [
    "from cornserve.frontend import CornserveClient\n",
    "cornserve = CornserveClient(url=\"your-endpoint:port\")"
   ]
  },
  {
   "cell_type": "markdown",
   "id": "cff177c3-88f8-4726-b2f6-ffe6bff8ace4",
   "metadata": {},
   "source": [
    "Deploy may take a few minutes at first."
   ]
  },
  {
   "cell_type": "code",
   "execution_count": 3,
   "id": "b0219a8d-0789-4649-9393-a983c8b4548a",
   "metadata": {},
   "outputs": [
    {
     "data": {
      "text/plain": [
       "TaskResponse(status=200, content='Tasks declared used')"
      ]
     },
     "execution_count": 3,
     "metadata": {},
     "output_type": "execute_result"
    }
   ],
   "source": [
    "cornserve.deploy(mllm)"
   ]
  },
  {
   "cell_type": "markdown",
   "id": "eb1bc572-f10d-4a49-9c6f-a2099d068c3f",
   "metadata": {},
   "source": [
    "The builtin `MLLMTask` takes `MLLMInput`, so you can construct the input and try to invoke it.\n",
    "Note the `multimodal_data` field is a list of tuples."
   ]
  },
  {
   "cell_type": "code",
   "execution_count": 4,
   "id": "b19f5667-abc9-4e2d-af34-9020c3578b28",
   "metadata": {},
   "outputs": [],
   "source": [
    "from cornserve.task.builtins.mllm import MLLMInput\n",
    "mllm_input = MLLMInput(\n",
    "    prompt=\"What is this image about?\",\n",
    "    multimodal_data=[(\"image\", \"https://picsum.photos/seed/random/200/300\")]\n",
    ")"
   ]
  },
  {
   "cell_type": "code",
   "execution_count": 5,
   "id": "d270dec2-b4f7-4357-9c11-5a133c0145f6",
   "metadata": {},
   "outputs": [
    {
     "name": "stderr",
     "output_type": "stream",
     "text": [
      "INFO 2025-04-30 14:58:12,737 [cornserve.task.base:509] Dispatching tasks to http://your-endpoint:port/tasks/invoke\n"
     ]
    },
    {
     "data": {
      "text/plain": [
       "MLLMOutput(response='The image shows a dog wrapped in a blanket. The blanket appears to be plaid or checkered, with a mix of colors including beige, pink, and green. The dog is sitting on the ground, and the blanket is wrapped around its body, covering its head and part of its back. The background suggests an outdoor setting, possibly a forest or a park, with trees and greenery visible. The overall scene gives a cozy and warm impression, as if the dog is being kept warm in the cold weather.')"
      ]
     },
     "execution_count": 5,
     "metadata": {},
     "output_type": "execute_result"
    }
   ],
   "source": [
    "await mllm(mllm_input)"
   ]
  },
  {
   "cell_type": "markdown",
   "id": "7e63a3ad-16b0-4b78-89c3-c6d946d30791",
   "metadata": {},
   "source": [
    "Now we can build more complex Tasks. For example:"
   ]
  },
  {
   "cell_type": "code",
   "execution_count": 6,
   "id": "794c55f2-719a-4139-95b0-f1f3677b736d",
   "metadata": {},
   "outputs": [],
   "source": [
    "from cornserve.task.base import Task, TaskInput, TaskOutput\n",
    "class MyTaskInput(TaskInput):\n",
    "    \"\"\"Task input model.\"\"\"\n",
    "\n",
    "    first_prompt: str\n",
    "    second_prompt: str\n",
    "    multimodal_data: list[tuple[str, str]] = []\n",
    "\n",
    "class MyTaskOutput(TaskOutput):\n",
    "    \"\"\"Task output model.\"\"\"\n",
    "    response: str\n",
    "\n",
    "class MyTask(Task):\n",
    "    def __init__(self):\n",
    "        super().__init__()\n",
    "        self.mllm = MLLMTask(\n",
    "            model_id=\"Qwen/Qwen2-VL-7B-Instruct\",\n",
    "            modalities=[Modality.IMAGE],\n",
    "        )\n",
    "\n",
    "    def invoke(self, input: MyTaskInput) -> MyTaskOutput:\n",
    "        \"\"\"Invoke the task with the given input.\"\"\"\n",
    "        mllm_input = MLLMInput(\n",
    "            prompt=input.first_prompt,\n",
    "            multimodal_data=input.multimodal_data,\n",
    "        )\n",
    "        mllm_output = self.mllm.invoke(mllm_input)\n",
    "\n",
    "\n",
    "        input = MLLMInput(\n",
    "            prompt=input.second_prompt,\n",
    "            multimodal_data=input.multimodal_data,\n",
    "        )\n",
    "\n",
    "        output = self.mllm.invoke(input)\n",
    "        return MyTaskOutput(response=f\"{mllm_output.response} \\n-----\\n{output.response}\")"
   ]
  },
  {
   "cell_type": "markdown",
   "id": "251b70d3-3ef7-4d10-b674-ebb02ca1f984",
   "metadata": {},
   "source": [
    "We can deploy it and test it. Note the deployment finishes instantly because `Cornserve` can reuse the `UnitTask`s in each `Task`."
   ]
  },
  {
   "cell_type": "code",
   "execution_count": 7,
   "id": "77ceb57b-c6fe-44b7-a58b-c9827098f3b1",
   "metadata": {},
   "outputs": [
    {
     "data": {
      "text/plain": [
       "TaskResponse(status=200, content='Tasks declared used')"
      ]
     },
     "execution_count": 7,
     "metadata": {},
     "output_type": "execute_result"
    }
   ],
   "source": [
    "my_task = MyTask()\n",
    "cornserve.deploy(my_task)"
   ]
  },
  {
   "cell_type": "code",
   "execution_count": 8,
   "id": "06580bf5-be37-465c-ab92-ae719104e1ab",
   "metadata": {},
   "outputs": [
    {
     "name": "stderr",
     "output_type": "stream",
     "text": [
      "INFO 2025-04-30 14:58:17,938 [cornserve.task.base:509] Dispatching tasks to http://your-endpoint:port/tasks/invoke\n"
     ]
    },
    {
     "name": "stdout",
     "output_type": "stream",
     "text": [
      "The flower in the picture is a Crab Apple (Malus). Crab apples are a type of apple tree known for their small, often colorful flowers that bloom in early spring. They are not typically grown for their fruit, which is often too small and sour for eating, but are valued for their ornamental value and the attractive flowers they produce. \n",
      "-----\n",
      "Soft pink petals,\n",
      "Gentle leaves whispering,\n",
      "Spring's gentle breath.\n"
     ]
    }
   ],
   "source": [
    "my_input = MyTaskInput(\n",
    "    first_prompt=\"What's the name of the flower?\",\n",
    "    second_prompt=\"Write a haiku about the image\",\n",
    "    multimodal_data=[(\"image\", \"https://upload.wikimedia.org/wikipedia/commons/thumb/f/fb/Crab_apple_flower_4004.jpg/2880px-Crab_apple_flower_4004.jpg\")],\n",
    ")\n",
    "result = await my_task(my_input)\n",
    "print(result.response)"
   ]
  },
  {
   "cell_type": "markdown",
   "id": "f67f0fbd-f11f-4e96-879c-0b56947f8a83",
   "metadata": {},
   "source": [
    "We no longer need the `mllm`, so can `teardown` it in the cluster. Note this returns instantly because its `UnitTask` are also used by `my_task`!"
   ]
  },
  {
   "cell_type": "code",
   "execution_count": 9,
   "id": "8efe688d-5ff8-4a0f-a5b9-05b0793ce88a",
   "metadata": {},
   "outputs": [
    {
     "data": {
      "text/plain": [
       "TaskResponse(status=200, content='Tasks declared not used')"
      ]
     },
     "execution_count": 9,
     "metadata": {},
     "output_type": "execute_result"
    }
   ],
   "source": [
    "cornserve.teardown(mllm)"
   ]
  },
  {
   "cell_type": "markdown",
   "id": "4ee59d09-d05b-419b-a653-adddc1a74028",
   "metadata": {},
   "source": [
    "The `CornserveClient` uses a web socket to talk to the Cornserve Gateway. A disconnect will automatically teardown all the tasks you deployed."
   ]
  },
  {
   "cell_type": "code",
   "execution_count": 10,
   "id": "9f322460-f524-40bf-9781-6087878f46f0",
   "metadata": {},
   "outputs": [
    {
     "name": "stdout",
     "output_type": "stream",
     "text": [
      "Closed connection to Cornserve gateway.\n",
      "Closed keep-alive thread.\n"
     ]
    }
   ],
   "source": [
    "cornserve.close()"
   ]
  }
 ],
 "metadata": {
  "kernelspec": {
   "display_name": "Python 3 (ipykernel)",
   "language": "python",
   "name": "python3"
  },
  "language_info": {
   "codemirror_mode": {
    "name": "ipython",
    "version": 3
   },
   "file_extension": ".py",
   "mimetype": "text/x-python",
   "name": "python",
   "nbconvert_exporter": "python",
   "pygments_lexer": "ipython3",
   "version": "3.11.11"
  }
 },
 "nbformat": 4,
 "nbformat_minor": 5
}
