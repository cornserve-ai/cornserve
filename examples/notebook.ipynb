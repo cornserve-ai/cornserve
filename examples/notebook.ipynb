{
 "cells": [
  {
   "cell_type": "markdown",
   "id": "1e7929ad-ed7e-4a7a-9579-bc6da9124bf4",
   "metadata": {},
   "source": [
    "# Developing and Using Cornserve with Jupyter Notebooks"
   ]
  },
  {
   "cell_type": "markdown",
   "id": "ab47e246-4f9f-4b1e-a6b0-b95a71a8ccd2",
   "metadata": {},
   "source": [
    "An application is composed of `Task`s. `Cornserve` has provided some builtin `Task`s, and here is an example to create a VLM `Task`."
   ]
  },
  {
   "cell_type": "code",
   "execution_count": 1,
   "id": "78d4ae05-2a91-4371-9a76-3cfad89dad67",
   "metadata": {},
   "outputs": [],
   "source": [
    "from cornserve.task.builtins.llm import MLLMTask, Modality\n",
    "\n",
    "mllm = MLLMTask(\n",
    "    model_id=\"Qwen/Qwen2-VL-7B-Instruct\",\n",
    "    modalities=[Modality.IMAGE],\n",
    ")"
   ]
  },
  {
   "cell_type": "markdown",
   "id": "8bda7e3f-1bf2-4916-a3ee-4c07f53febad",
   "metadata": {},
   "source": [
    "You can deploy this task to the cluster so that you can later invoke it. To deploy, you need to create a `CornserveClient`."
   ]
  },
  {
   "cell_type": "code",
   "execution_count": 2,
   "id": "db26f6b0-4eb3-4c7f-aa01-3ea7d20e3cf1",
   "metadata": {},
   "outputs": [
    {
     "name": "stdout",
     "output_type": "stream",
     "text": [
      "Connected to Cornserve gateway at localhost:30080\n"
     ]
    }
   ],
   "source": [
    "from cornserve.frontend import CornserveClient\n",
    "\n",
    "cornserve = CornserveClient(url=\"localhost:30080\")"
   ]
  },
  {
   "cell_type": "markdown",
   "id": "cff177c3-88f8-4726-b2f6-ffe6bff8ace4",
   "metadata": {},
   "source": [
    "Now, you can deploy the task on Cornserve with `cornserve.deploy`.\n",
    "\n",
    "This is going to take a few minutes due to vLLM's startup time. With the `cornserve` CLI on the commandline, you will also get live outputs from each unit task executor."
   ]
  },
  {
   "cell_type": "code",
   "execution_count": 3,
   "id": "b0219a8d-0789-4649-9393-a983c8b4548a",
   "metadata": {},
   "outputs": [
    {
     "data": {
      "text/plain": [
       "TaskResponse(status=200, content='Tasks declared used')"
      ]
     },
     "execution_count": 3,
     "metadata": {},
     "output_type": "execute_result"
    }
   ],
   "source": [
    "cornserve.deploy(mllm)"
   ]
  },
  {
   "cell_type": "markdown",
   "id": "eb1bc572-f10d-4a49-9c6f-a2099d068c3f",
   "metadata": {},
   "source": [
    "The builtin `MLLMTask` is compatible with the OpenAI Chat Completion API."
   ]
  },
  {
   "cell_type": "code",
   "execution_count": 4,
   "id": "b19f5667-abc9-4e2d-af34-9020c3578b28",
   "metadata": {},
   "outputs": [],
   "source": [
    "from cornserve.task.builtins.llm import OpenAIChatCompletionRequest\n",
    "\n",
    "mllm_input = OpenAIChatCompletionRequest.model_validate(\n",
    "    {\n",
    "        \"model\": \"Qwen/Qwen2-VL-7B-Instruct\",\n",
    "        \"messages\": [\n",
    "            {\n",
    "                \"role\": \"user\",\n",
    "                \"content\": [\n",
    "                    {\"type\": \"text\", \"text\": \"What is this image about?\"},\n",
    "                    {\"type\": \"image_url\", \"image_url\": {\"url\": \"https://picsum.photos/seed/random/200/300\"}},\n",
    "                ],\n",
    "            },\n",
    "        ],\n",
    "    }\n",
    ")"
   ]
  },
  {
   "cell_type": "code",
   "execution_count": 5,
   "id": "d270dec2-b4f7-4357-9c11-5a133c0145f6",
   "metadata": {},
   "outputs": [
    {
     "name": "stderr",
     "output_type": "stream",
     "text": [
      "INFO 2025-07-13 21:45:40,999 [cornserve.task.base:709] Dispatching tasks to http://localhost:30080/tasks/invoke\n"
     ]
    },
    {
     "name": "stdout",
     "output_type": "stream",
     "text": [
      "The image shows a dog wrapped in a blanket. The blanket appears to be plaid or checkered, with a mix of colors including beige, pink, and green. The dog is sitting on the ground, and the blanket is wrapped around its body, covering its head and part of its back. The background suggests an outdoor setting, possibly a forest or a park, with trees and greenery visible. The overall scene gives a cozy and warm impression, as if the dog is being kept warm in the cold weather."
     ]
    }
   ],
   "source": [
    "async for chunk in await mllm(mllm_input):\n",
    "    if chunk.choices:\n",
    "        print(chunk.choices[0].delta.content, end=\"\")"
   ]
  },
  {
   "cell_type": "markdown",
   "id": "f67f0fbd-f11f-4e96-879c-0b56947f8a83",
   "metadata": {},
   "source": [
    "A more structured way of interacting with the Cornserve structure is by writing *apps*. You can find more examples in [our repository](https://github.com/cornserve-ai/cornserve/tree/master/examples).\n",
    "\n",
    "Finally, to clean up, let's teardown the task that we deployed."
   ]
  },
  {
   "cell_type": "code",
   "execution_count": 6,
   "id": "8efe688d-5ff8-4a0f-a5b9-05b0793ce88a",
   "metadata": {
    "scrolled": true
   },
   "outputs": [
    {
     "data": {
      "text/plain": [
       "TaskResponse(status=200, content='Tasks declared not used')"
      ]
     },
     "execution_count": 6,
     "metadata": {},
     "output_type": "execute_result"
    }
   ],
   "source": [
    "cornserve.teardown(mllm)"
   ]
  },
  {
   "cell_type": "markdown",
   "id": "4ee59d09-d05b-419b-a653-adddc1a74028",
   "metadata": {},
   "source": [
    "The client basically maintains a websocket connection with the Cornserve gateway, and disconnecting will also result in tearing down all the tasks you deployed."
   ]
  },
  {
   "cell_type": "code",
   "execution_count": 7,
   "id": "9f322460-f524-40bf-9781-6087878f46f0",
   "metadata": {},
   "outputs": [
    {
     "name": "stdout",
     "output_type": "stream",
     "text": [
      "Closed connection to Cornserve gateway.\n",
      "Closed keep-alive thread.\n"
     ]
    }
   ],
   "source": [
    "cornserve.close()"
   ]
  }
 ],
 "metadata": {
  "kernelspec": {
   "display_name": "Python 3 (ipykernel)",
   "language": "python",
   "name": "python3"
  },
  "language_info": {
   "codemirror_mode": {
    "name": "ipython",
    "version": 3
   },
   "file_extension": ".py",
   "mimetype": "text/x-python",
   "name": "python",
   "nbconvert_exporter": "python",
   "pygments_lexer": "ipython3",
   "version": "3.11.13"
  }
 },
 "nbformat": 4,
 "nbformat_minor": 5
}
