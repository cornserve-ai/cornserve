{
 "cells": [
  {
   "cell_type": "markdown",
   "id": "1e7929ad-ed7e-4a7a-9579-bc6da9124bf4",
   "metadata": {},
   "source": [
    "# Example to develop and debug your applications"
   ]
  },
  {
   "cell_type": "markdown",
   "id": "ab47e246-4f9f-4b1e-a6b0-b95a71a8ccd2",
   "metadata": {},
   "source": [
    "An application is composed of `Task`s. `Cornserve` has provided some builtin `Task`s, and here is an example to create a VLM `Task`."
   ]
  },
  {
   "cell_type": "code",
   "execution_count": 6,
   "id": "78d4ae05-2a91-4371-9a76-3cfad89dad67",
   "metadata": {},
   "outputs": [],
   "source": [
    "from cornserve.task.builtins.mllm import MLLMTask, Modality\n",
    "mllm = MLLMTask(\n",
    "    model_id=\"Qwen/Qwen2-VL-7B-Instruct\",\n",
    "    modalities=[Modality.IMAGE],\n",
    ")"
   ]
  },
  {
   "cell_type": "markdown",
   "id": "8bda7e3f-1bf2-4916-a3ee-4c07f53febad",
   "metadata": {},
   "source": [
    "You can deploy this task to the cluster so that you can later invoke it. To deploy, you need to create a `CornserveClient`."
   ]
  },
  {
   "cell_type": "code",
   "execution_count": 8,
   "id": "db26f6b0-4eb3-4c7f-aa01-3ea7d20e3cf1",
   "metadata": {},
   "outputs": [
    {
     "name": "stdout",
     "output_type": "stream",
     "text": [
      "Connected to Cornserve gateway at your-endpoint:port\n"
     ]
    }
   ],
   "source": [
    "from cornserve.frontend import CornserveClient\n",
    "cornserve = CornserveClient(url=\"your-endpoint:port\")"
   ]
  },
  {
   "cell_type": "markdown",
   "id": "cff177c3-88f8-4726-b2f6-ffe6bff8ace4",
   "metadata": {},
   "source": [
    "Deploy may take a few minutes at first."
   ]
  },
  {
   "cell_type": "code",
   "execution_count": 9,
   "id": "b0219a8d-0789-4649-9393-a983c8b4548a",
   "metadata": {},
   "outputs": [
    {
     "data": {
      "text/plain": [
       "TaskResponse(status=200, content='Tasks declared used')"
      ]
     },
     "execution_count": 9,
     "metadata": {},
     "output_type": "execute_result"
    }
   ],
   "source": [
    "cornserve.deploy(mllm)"
   ]
  },
  {
   "cell_type": "markdown",
   "id": "eb1bc572-f10d-4a49-9c6f-a2099d068c3f",
   "metadata": {},
   "source": [
    "The builtin `MLLMTask` takes `MLLMInput`, so you can construct the input and try to invoke it.\n",
    "Note the `multimodal_data` field is a list of tuples."
   ]
  },
  {
   "cell_type": "code",
   "execution_count": 11,
   "id": "b19f5667-abc9-4e2d-af34-9020c3578b28",
   "metadata": {},
   "outputs": [],
   "source": [
    "from cornserve.task.builtins.mllm import MLLMInput\n",
    "mllm_input = MLLMInput(\n",
    "    prompt=\"What is this image about?\",\n",
    "    multimodal_data=[(\"image\", \"https://picsum.photos/seed/random/200/300\")]\n",
    ")"
   ]
  },
  {
   "cell_type": "code",
   "execution_count": 12,
   "id": "d270dec2-b4f7-4357-9c11-5a133c0145f6",
   "metadata": {},
   "outputs": [
    {
     "name": "stderr",
     "output_type": "stream",
     "text": [
      "INFO 2025-04-30 12:07:37,552 [cornserve.task.base:490] Dispatching tasks to http://your-endpoint:port/tasks/invoke\n"
     ]
    },
    {
     "data": {
      "text/plain": [
       "MLLMOutput(response='The image shows a dog wrapped in a blanket. The blanket appears to be plaid or checkered, with a mix of colors including beige, pink, and green. The dog is sitting on the ground, and the blanket is wrapped around its body, covering its head and part of its back. The background suggests an outdoor setting, possibly a forest or a park, with trees and greenery visible. The overall scene gives a cozy and warm impression, as if the dog is being kept warm in the cold weather.')"
      ]
     },
     "execution_count": 12,
     "metadata": {},
     "output_type": "execute_result"
    }
   ],
   "source": [
    "await mllm(mllm_input)"
   ]
  },
  {
   "cell_type": "markdown",
   "id": "7e63a3ad-16b0-4b78-89c3-c6d946d30791",
   "metadata": {},
   "source": [
    "Now we can build more complex Tasks. For example:"
   ]
  },
  {
   "cell_type": "code",
   "execution_count": 14,
   "id": "794c55f2-719a-4139-95b0-f1f3677b736d",
   "metadata": {},
   "outputs": [],
   "source": [
    "from cornserve.task.base import Task, TaskInput, TaskOutput\n",
    "class MyTaskInput(TaskInput):\n",
    "    \"\"\"Task input model.\"\"\"\n",
    "\n",
    "    first_prompt: str\n",
    "    second_prompt: str\n",
    "    multimodal_data: list[tuple[str, str]] = []\n",
    "\n",
    "class MyTaskOutput(TaskOutput):\n",
    "    \"\"\"Task output model.\"\"\"\n",
    "    response: str\n",
    "\n",
    "class MyTask(Task):\n",
    "    def __init__(self):\n",
    "        super().__init__()\n",
    "        self.mllm = MLLMTask(\n",
    "            model_id=\"Qwen/Qwen2-VL-7B-Instruct\",\n",
    "            modalities=[Modality.IMAGE],\n",
    "        )\n",
    "\n",
    "    def invoke(self, input: MyTaskInput) -> MyTaskOutput:\n",
    "        \"\"\"Invoke the task with the given input.\"\"\"\n",
    "        mllm_input = MLLMInput(\n",
    "            prompt=input.first_prompt,\n",
    "            multimodal_data=input.multimodal_data,\n",
    "        )\n",
    "        mllm_output = self.mllm.invoke(mllm_input)\n",
    "\n",
    "\n",
    "        input = MLLMInput(\n",
    "            prompt=input.second_prompt,\n",
    "            multimodal_data=input.multimodal_data,\n",
    "        )\n",
    "\n",
    "        output = self.mllm.invoke(input)\n",
    "        return MyTaskOutput(response=f\"{mllm_output.response} \\n-----\\n{output.response}\")"
   ]
  },
  {
   "cell_type": "markdown",
   "id": "251b70d3-3ef7-4d10-b674-ebb02ca1f984",
   "metadata": {},
   "source": [
    "We can deploy it and test it. Note the deployment finishes instantly because `Cornserve` can reuse the `UnitTask`s in each `Task`."
   ]
  },
  {
   "cell_type": "code",
   "execution_count": 16,
   "id": "77ceb57b-c6fe-44b7-a58b-c9827098f3b1",
   "metadata": {},
   "outputs": [
    {
     "data": {
      "text/plain": [
       "TaskResponse(status=200, content='Tasks declared used')"
      ]
     },
     "execution_count": 16,
     "metadata": {},
     "output_type": "execute_result"
    }
   ],
   "source": [
    "my_task = MyTask()\n",
    "cornserve.deploy(my_task)"
   ]
  },
  {
   "cell_type": "code",
   "execution_count": 18,
   "id": "06580bf5-be37-465c-ab92-ae719104e1ab",
   "metadata": {},
   "outputs": [
    {
     "name": "stderr",
     "output_type": "stream",
     "text": [
      "INFO 2025-04-30 13:22:47,485 [cornserve.task.base:490] Dispatching tasks to http://your-endpoint:port/tasks/invoke\n"
     ]
    },
    {
     "name": "stdout",
     "output_type": "stream",
     "text": [
      "The image depicts a serene and majestic mountain landscape during what appears to be either sunrise or sunset. The sky is painted with soft hues of pink and orange, transitioning into a lighter blue as it stretches upwards. The clouds are scattered, adding texture to the sky and casting gentle shadows on the mountain.\n",
      "\n",
      "In the foreground, there is a vast expanse of snow-covered ground, indicating a high-altitude or alpine environment. The snow appears pristine and undisturbed, reflecting the light from the sky.\n",
      "\n",
      "Dominating the background is a towering mountain peak, which is partially obscured by the snow. The peak rises sharply against the sky, its rugged and jagged edges adding to the dramatic and awe-inspiring nature of the scene. The mountain's surface is covered in snow, with some areas showing the underlying rock or ice, suggesting it is a high-altitude mountain.\n",
      "\n",
      "The overall atmosphere of the image is tranquil and picturesque, capturing the beauty and grandeur of nature. The interplay of light and shadow, combined with the stark contrast between the snow and the sky, creates a visually striking and memorable scene. \n",
      "-----\n",
      "Snow-capped peak stands,\n",
      "Silent sentinel of dawn,\n",
      "Sunrise paints the sky.\n"
     ]
    }
   ],
   "source": [
    "my_input = MyTaskInput(\n",
    "    first_prompt=\"What is this image about?\",\n",
    "    second_prompt=\"Write a haiku\",\n",
    "    multimodal_data=[(\"image\", \"https://picsum.photos/seed/picsum/200/300\")],\n",
    ")\n",
    "result = await my_task(my_input)\n",
    "print(result.response)"
   ]
  },
  {
   "cell_type": "markdown",
   "id": "f67f0fbd-f11f-4e96-879c-0b56947f8a83",
   "metadata": {},
   "source": [
    "We no longer need the `mllm`, so can `teardown` it in the cluster. Note this returns instantly because its `UnitTask` are also used by `my_task`!"
   ]
  },
  {
   "cell_type": "code",
   "execution_count": 19,
   "id": "8efe688d-5ff8-4a0f-a5b9-05b0793ce88a",
   "metadata": {},
   "outputs": [
    {
     "data": {
      "text/plain": [
       "TaskResponse(status=200, content='Tasks declared not used')"
      ]
     },
     "execution_count": 19,
     "metadata": {},
     "output_type": "execute_result"
    }
   ],
   "source": [
    "cornserve.teardown(mllm)"
   ]
  },
  {
   "cell_type": "markdown",
   "id": "c84e5a61-eb7d-48f8-8888-766244ecddcf",
   "metadata": {},
   "source": [
    "Now we can convert this `Task` to an `App`. `App`s are defined with entrypoint of `AppRequest` and exit of `AppResponse`. The `serve` funtion of the `App` will be invoked in `Cornserve` whenever it receives an `AppRequest`."
   ]
  },
  {
   "cell_type": "code",
   "execution_count": 46,
   "id": "ff8d8e41-b8a2-491c-8fd6-bdc5dc561464",
   "metadata": {},
   "outputs": [],
   "source": [
    "from pydantic import BaseModel, ConfigDict\n",
    "\n",
    "class Request(BaseModel):\n",
    "    \"\"\"App request model.\n",
    "\n",
    "    Attributes:\n",
    "        prompt: The prompt to send to the LLM.\n",
    "        multimodal_data: List of tuples (modality, data URL).\n",
    "    \"\"\"\n",
    "\n",
    "    prompt: str\n",
    "    multimodal_data: list[tuple[str, str]] = []\n",
    "\n",
    "    model_config = ConfigDict(extra=\"forbid\")\n",
    "\n",
    "class Response(BaseModel):\n",
    "    \"\"\"App response model.\n",
    "\n",
    "    Attributes:\n",
    "        response: The response from the LLM.\n",
    "    \"\"\"\n",
    "\n",
    "    response: str\n",
    "\n",
    "async def serve(request: Request) -> Response:\n",
    "    \"\"\"Main serve function for the app.\"\"\"\n",
    "    task_input = MyTaskInput(\n",
    "        first_prompt=request.prompt,\n",
    "        second_prompt=\"Write a haiku about the image\",\n",
    "        multimodal_data=request.multimodal_data\n",
    "    )\n",
    "    task_output = await my_task(task_input)\n",
    "    return Response(response=task_output.response)"
   ]
  },
  {
   "cell_type": "markdown",
   "id": "8b42d0fb-692b-45bc-b1f3-4cceffbacbfd",
   "metadata": {},
   "source": [
    "We can test the app we just wrote."
   ]
  },
  {
   "cell_type": "code",
   "execution_count": 52,
   "id": "15d03e95-9001-4724-821a-d157ae9d9bab",
   "metadata": {},
   "outputs": [],
   "source": [
    "req = Request(\n",
    "    prompt=\"What's the name of the flower?\",\n",
    "    multimodal_data=[(\"image\", \"https://upload.wikimedia.org/wikipedia/commons/thumb/f/fb/Crab_apple_flower_4004.jpg/2880px-Crab_apple_flower_4004.jpg\")]\n",
    ")"
   ]
  },
  {
   "cell_type": "code",
   "execution_count": 53,
   "id": "77d0c05b-2728-4bb9-9454-366ddec88c70",
   "metadata": {},
   "outputs": [
    {
     "name": "stderr",
     "output_type": "stream",
     "text": [
      "INFO 2025-04-30 13:48:02,233 [cornserve.task.base:490] Dispatching tasks to http://your-endpoint:port/tasks/invoke\n"
     ]
    },
    {
     "name": "stdout",
     "output_type": "stream",
     "text": [
      "The flower in the picture is a Crab Apple (Malus). Crab apples are a type of apple tree that produces small, often tart fruits. They are known for their beautiful blossoms, which come in various colors including pink, white, and red. \n",
      "-----\n",
      "Soft pink petals,\n",
      "Gentle blooms in spring's embrace,\n",
      "Nature's sweet embrace.\n"
     ]
    }
   ],
   "source": [
    "res = await serve(req)\n",
    "print(res.response)"
   ]
  },
  {
   "cell_type": "markdown",
   "id": "4ee59d09-d05b-419b-a653-adddc1a74028",
   "metadata": {},
   "source": [
    "Disconnect will teardown all the tasks you deployed."
   ]
  },
  {
   "cell_type": "code",
   "execution_count": 54,
   "id": "9f322460-f524-40bf-9781-6087878f46f0",
   "metadata": {},
   "outputs": [
    {
     "name": "stdout",
     "output_type": "stream",
     "text": [
      "Closed connection to Cornserve gateway.\n",
      "Closed keep-alive thread.\n"
     ]
    }
   ],
   "source": [
    "cornserve.close()"
   ]
  },
  {
   "cell_type": "code",
   "execution_count": null,
   "id": "6a0bcae8-5516-41d0-ae07-33c76c39b34d",
   "metadata": {},
   "outputs": [],
   "source": []
  }
 ],
 "metadata": {
  "kernelspec": {
   "display_name": "Python 3 (ipykernel)",
   "language": "python",
   "name": "python3"
  },
  "language_info": {
   "codemirror_mode": {
    "name": "ipython",
    "version": 3
   },
   "file_extension": ".py",
   "mimetype": "text/x-python",
   "name": "python",
   "nbconvert_exporter": "python",
   "pygments_lexer": "ipython3",
   "version": "3.11.11"
  }
 },
 "nbformat": 4,
 "nbformat_minor": 5
}
