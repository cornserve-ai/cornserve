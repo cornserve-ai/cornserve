{
 "cells": [
  {
   "cell_type": "code",
   "execution_count": null,
   "id": "db26f6b0-4eb3-4c7f-aa01-3ea7d20e3cf1",
   "metadata": {},
   "outputs": [],
   "source": [
    "from cornserve.frontend import CornserveClient"
   ]
  },
  {
   "cell_type": "code",
   "execution_count": null,
   "id": "b0219a8d-0789-4649-9393-a983c8b4548a",
   "metadata": {},
   "outputs": [],
   "source": [
    "cornserve = CornserveClient(url=\"your-cluster.com:port\")"
   ]
  },
  {
   "cell_type": "code",
   "execution_count": null,
   "id": "7082f091-1c59-415c-aa4c-65109d792a31",
   "metadata": {},
   "outputs": [],
   "source": [
    "import asyncio\n",
    "from cornserve.app.base import AppRequest, AppResponse\n",
    "from cornserve.task.builtins.mllm import MLLMInput, MLLMTask, Modality\n",
    "\n",
    "class Request(AppRequest):\n",
    "    \"\"\"App request model.\n",
    "\n",
    "    Attributes:\n",
    "        prompt: The prompt to send to the LLM.\n",
    "        multimodal_data: List of tuples (modality, data URL).\n",
    "    \"\"\"\n",
    "\n",
    "    prompt: str\n",
    "    multimodal_data: list[tuple[str, str]] = []\n",
    "\n",
    "\n",
    "class Response(AppResponse):\n",
    "    \"\"\"App response model.\n",
    "\n",
    "    Attributes:\n",
    "        response: The response from the LLM.\n",
    "    \"\"\"\n",
    "\n",
    "    response: str\n",
    "\n",
    "\n",
    "mllm = MLLMTask(\n",
    "    model_id=\"Qwen/Qwen2-VL-7B-Instruct\",\n",
    "    modalities=[Modality.IMAGE],\n",
    ")"
   ]
  },
  {
   "cell_type": "code",
   "execution_count": null,
   "id": "82b1be42-7dfc-4b9f-97d7-899cce9af986",
   "metadata": {},
   "outputs": [],
   "source": [
    "cornserve.deploy(mllm)"
   ]
  },
  {
   "cell_type": "code",
   "execution_count": null,
   "id": "5518cd06-8e5b-482c-ae12-b32c106ea70a",
   "metadata": {},
   "outputs": [],
   "source": [
    "llava = MLLMTask(\n",
    "    model_id=\"llava-hf/llava-onevision-qwen2-7b-ov-chat-hf\",\n",
    "    modalities=[Modality.IMAGE],\n",
    ")"
   ]
  },
  {
   "cell_type": "code",
   "execution_count": null,
   "id": "e003ba6f-8501-45df-85c5-6ab2a045e438",
   "metadata": {},
   "outputs": [],
   "source": [
    "cornserve.deploy(llava)"
   ]
  },
  {
   "cell_type": "code",
   "execution_count": null,
   "id": "1777beb5-7d99-4d72-ae48-1b5207449ac9",
   "metadata": {},
   "outputs": [],
   "source": [
    "async def serve(request: Request) -> Response:\n",
    "    \"\"\"Main serve function for the app.\"\"\"\n",
    "    mllm_input = MLLMInput(prompt=request.prompt, multimodal_data=request.multimodal_data)\n",
    "    mllm_output = await mllm(mllm_input)\n",
    "    return Response(response=mllm_output.response)"
   ]
  },
  {
   "cell_type": "code",
   "execution_count": null,
   "id": "2a8d79bd-02eb-4a69-b8a8-7cd15c4fe926",
   "metadata": {},
   "outputs": [],
   "source": [
    "cornserve.is_connected()"
   ]
  },
  {
   "cell_type": "code",
   "execution_count": null,
   "id": "013eec3d-e25e-456e-976f-c0795cd9d2a1",
   "metadata": {},
   "outputs": [],
   "source": [
    "request = Request(\n",
    "        prompt=\"What is this image about?\",\n",
    "        multimodal_data=[(\"image\", \"https://picsum.photos/seed/random/200/300\")],\n",
    "    )\n",
    "response = await serve(request)"
   ]
  },
  {
   "cell_type": "code",
   "execution_count": null,
   "id": "e5b55e3b-550e-43ad-8868-43832f81a51c",
   "metadata": {},
   "outputs": [],
   "source": [
    "cornserve.remove(llava)"
   ]
  },
  {
   "cell_type": "code",
   "execution_count": null,
   "id": "6a236fbd-06b5-4a71-ba5b-fd499cb17fe6",
   "metadata": {},
   "outputs": [],
   "source": [
    "print(response.response)"
   ]
  },
  {
   "cell_type": "code",
   "execution_count": null,
   "id": "b0e6d2c1-0895-432d-b1a1-74e60ab63a61",
   "metadata": {},
   "outputs": [],
   "source": [
    "from cornserve.task.base import Task, TaskInput, TaskOutput\n",
    "class MyTaskInput(TaskInput):\n",
    "    \"\"\"Task input model.\"\"\"\n",
    "\n",
    "    first_prompt: str\n",
    "    second_prompt: str\n",
    "    multimodal_data: list[tuple[str, str]] = []\n",
    "\n",
    "class MyTaskOutput(TaskOutput):\n",
    "    \"\"\"Task output model.\"\"\"\n",
    "    response: str"
   ]
  },
  {
   "cell_type": "code",
   "execution_count": null,
   "id": "0bba4bfe-71f6-4900-8475-a4714c593cd4",
   "metadata": {},
   "outputs": [],
   "source": [
    "class MyTask(Task):\n",
    "    def __init__(self):\n",
    "        super().__init__()\n",
    "        self.mllm = MLLMTask(\n",
    "            model_id=\"Qwen/Qwen2-VL-7B-Instruct\",\n",
    "            modalities=[Modality.IMAGE],\n",
    "        )\n",
    "\n",
    "    def invoke(self, input: MyTaskInput) -> MyTaskOutput:\n",
    "        \"\"\"Invoke the task with the given input.\"\"\"\n",
    "        mllm_input = MLLMInput(\n",
    "            prompt=input.first_prompt,\n",
    "            multimodal_data=input.multimodal_data,\n",
    "        )\n",
    "        mllm_output = self.mllm.invoke(mllm_input)\n",
    "\n",
    "\n",
    "        input = MLLMInput(\n",
    "            prompt=input.second_prompt,\n",
    "            multimodal_data=input.multimodal_data,\n",
    "        )\n",
    "\n",
    "        output = self.mllm.invoke(input)\n",
    "        return MyTaskOutput(response=f\"{mllm_output.response} \\n-----\\n{output.response}\")"
   ]
  },
  {
   "cell_type": "code",
   "execution_count": null,
   "id": "29293186-abdf-4a82-b779-9653d42cf886",
   "metadata": {},
   "outputs": [],
   "source": [
    "my_task = MyTask()"
   ]
  },
  {
   "cell_type": "code",
   "execution_count": null,
   "id": "77d0c05b-2728-4bb9-9454-366ddec88c70",
   "metadata": {},
   "outputs": [],
   "source": [
    "cornserve.deploy(my_task)"
   ]
  },
  {
   "cell_type": "code",
   "execution_count": null,
   "id": "36de3195-703b-47e2-831a-2ece64e80704",
   "metadata": {},
   "outputs": [],
   "source": [
    "response = await my_task(\n",
    "    MyTaskInput(\n",
    "        first_prompt=\"What is this image about?\",\n",
    "        second_prompt=\"Write a haiku\",\n",
    "        multimodal_data=[(\"image\", \"https://picsum.photos/seed/picsum/200/300\")],\n",
    "    )\n",
    ")\n",
    "print(response.response)"
   ]
  },
  {
   "cell_type": "code",
   "execution_count": null,
   "id": "ddbaf829-95d1-4e7a-8a42-fb0af0bfd988",
   "metadata": {},
   "outputs": [],
   "source": [
    "cornserve.remove(mllm)"
   ]
  },
  {
   "cell_type": "code",
   "execution_count": null,
   "id": "d7fb4ddb-dcd4-4ede-b155-83ddca8cbd53",
   "metadata": {},
   "outputs": [],
   "source": [
    "cornserve.remove(my_task)"
   ]
  },
  {
   "cell_type": "code",
   "execution_count": null,
   "id": "9f322460-f524-40bf-9781-6087878f46f0",
   "metadata": {},
   "outputs": [],
   "source": [
    "cornserve.close()"
   ]
  },
  {
   "cell_type": "code",
   "execution_count": null,
   "id": "6a0bcae8-5516-41d0-ae07-33c76c39b34d",
   "metadata": {},
   "outputs": [],
   "source": []
  }
 ],
 "metadata": {
  "kernelspec": {
   "display_name": "Python 3 (ipykernel)",
   "language": "python",
   "name": "python3"
  },
  "language_info": {
   "codemirror_mode": {
    "name": "ipython",
    "version": 3
   },
   "file_extension": ".py",
   "mimetype": "text/x-python",
   "name": "python",
   "nbconvert_exporter": "python",
   "pygments_lexer": "ipython3",
   "version": "3.11.11"
  }
 },
 "nbformat": 4,
 "nbformat_minor": 5
}
